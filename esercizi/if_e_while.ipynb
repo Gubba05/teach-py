{
  "cells": [
    {
      "cell_type": "markdown",
      "metadata": {
        "id": "HEMutLjECFFz"
      },
      "source": []
    },
    {
      "cell_type": "markdown",
      "metadata": {
        "id": "HB3XbPDcSqe1"
      },
      "source": [
        "# Esercizi IF"
      ]
    },
    {
      "cell_type": "code",
      "execution_count": 1,
      "metadata": {
        "colab": {
          "base_uri": "https://localhost:8080/"
        },
        "id": "0U7L9A29RfeT",
        "outputId": "99c4d5fe-5d50-47b7-b835-7dd6537802a9"
      },
      "outputs": [
        {
          "name": "stdout",
          "output_type": "stream",
          "text": [
            "è dispari\n"
          ]
        }
      ],
      "source": [
        "# Es 4.1: Ottenere dall'utente un numero in input e scrivere a schermo \"Pari\" se il numero è pari, scrivere \"Dispari\" altrimenti\n",
        "x = int(input(\"numero\"))\n",
        "if x%2==0:\n",
        "  print(\"è pari\")\n",
        "else:\n",
        "  print(\"è dispari\")\n",
        "\n"
      ]
    },
    {
      "cell_type": "code",
      "execution_count": null,
      "metadata": {
        "colab": {
          "base_uri": "https://localhost:8080/"
        },
        "id": "gE3RVr9ORuwP",
        "outputId": "d5ad0508-5508-4c3d-db4e-0f30e620d838"
      },
      "outputs": [
        {
          "name": "stdout",
          "output_type": "stream",
          "text": [
            "alfa60\n",
            "beta60\n",
            "gamma60\n",
            "è un triangolo\n"
          ]
        }
      ],
      "source": [
        "# Es 4.2: Ottenere dall'utente tre angoli caso siano i tre angoli di un triangolo scrivere a schermo \"È un triangolo\", altrimenti \"Non è un triangolo\"\n",
        "x=int(input(\"alfa\"))\n",
        "y=int(input(\"beta\"))\n",
        "z=int(input(\"gamma\"))\n",
        "if x+y+z ==180 and x>0 and y>0 and z>0:\n",
        "    print(\"è un triangolo\")\n",
        "else:\n",
        "   print(\"non è un triangolo\")"
      ]
    },
    {
      "cell_type": "code",
      "execution_count": null,
      "metadata": {
        "colab": {
          "base_uri": "https://localhost:8080/"
        },
        "id": "r1A_DavcSKgi",
        "outputId": "492eb583-9548-4962-ff35-a7e51efaad50"
      },
      "outputs": [
        {
          "name": "stdout",
          "output_type": "stream",
          "text": [
            "alfa60\n",
            "beta60\n",
            "gamma60\n",
            "è un triangolo\n",
            "non è rettangolo\n"
          ]
        }
      ],
      "source": [
        "# Es 4.3: Ottenuti dall'utente tre angoli di un tringolo scrivere a schermo se i tre angoli descrivono un triangolo rettangolo o no\n",
        "x=int(input(\"alfa\"))\n",
        "y=int(input(\"beta\"))\n",
        "z=int(input(\"gamma\"))\n",
        "if x+y+z ==180 and x>0 and y>0 and z>0:\n",
        "    print(\"è un triangolo\")\n",
        "    if x==90 or y==90 or z==90:\n",
        "      print(\"è rettangolo\")\n",
        "    else:\n",
        "        print(\"non è rettangolo\")\n",
        "else:\n",
        "   print(\"non è un triangolo\")"
      ]
    },
    {
      "cell_type": "code",
      "execution_count": null,
      "metadata": {
        "colab": {
          "base_uri": "https://localhost:8080/"
        },
        "id": "iA9D4X_GSims",
        "outputId": "33ec237b-17e6-4618-abae-78a8c11d9f1d"
      },
      "outputs": [
        {
          "name": "stdout",
          "output_type": "stream",
          "text": [
            "alfa30\n",
            "beta60\n",
            "gamma90\n",
            "è un triangolo\n",
            "non è equilatero\n"
          ]
        }
      ],
      "source": [
        "# Es 4.4: Ottenuti dall'utente tre angoli di un tringolo scrivere a schermo se i tre angoli descrivono un triangolo equilatero o no\n",
        "x=int(input(\"alfa\"))\n",
        "y=int(input(\"beta\"))\n",
        "z=int(input(\"gamma\"))\n",
        "if x+y+z ==180 and x>0 and y>0 and z>0:\n",
        "    print(\"è un triangolo\")\n",
        "    if x==y and x==z:\n",
        "      print(\"è equilatero\")\n",
        "    else:\n",
        "        print(\"non è equilatero\")\n",
        "else:\n",
        "   print(\"non è un triangolo\")"
      ]
    },
    {
      "cell_type": "code",
      "execution_count": null,
      "metadata": {
        "colab": {
          "base_uri": "https://localhost:8080/"
        },
        "id": "8q4gadoTSU7J",
        "outputId": "7bba4666-77b3-4e4e-fa95-ec99735f1ebe"
      },
      "outputs": [
        {
          "name": "stdout",
          "output_type": "stream",
          "text": [
            "alfa60\n",
            "beta30\n",
            "gamma90\n",
            "è un triangolo\n",
            "non è isoscele\n"
          ]
        }
      ],
      "source": [
        "# Es 4.5: Ottenuti dall'utente tre angoli di un tringolo scrivere a schermo se i tre angoli descrivono un triangolo isocele o no\n",
        "x=int(input(\"alfa\"))\n",
        "y=int(input(\"beta\"))\n",
        "z=int(input(\"gamma\"))\n",
        "if x+y+z ==180 and x>0 and y>0 and z>0:\n",
        "    print(\"è un triangolo\")\n",
        "    if x==y or x==z or y==z:\n",
        "      print(\"è isoscele\")\n",
        "    else:\n",
        "        print(\"non è isoscele\")\n",
        "else:\n",
        "   print(\"non è un triangolo\")"
      ]
    },
    {
      "cell_type": "code",
      "execution_count": null,
      "metadata": {
        "id": "yVIE2kK3SYlq"
      },
      "outputs": [],
      "source": [
        "# Es 4.6: Ottenuti dall'utente tre angoli di un tringolo scrivere a schermo se i tre angoli descrivono un triangolo isocele, rettagolo, equilatero o scaleno\n"
      ]
    },
    {
      "cell_type": "markdown",
      "metadata": {
        "id": "ef5snVxLqeQh"
      },
      "source": [
        "# Esercizi WHILE\n"
      ]
    },
    {
      "cell_type": "code",
      "execution_count": null,
      "metadata": {
        "id": "j61RqiHxqdmh"
      },
      "outputs": [],
      "source": [
        "# Es 4.7: Creare una funzione print_n(n,v) che stampi n volte il. contenuto di v\n",
        "def print_n(n,v):\n",
        "  i=0\n",
        "  while(i<n):\n",
        "    print(v)"
      ]
    },
    {
      "cell_type": "code",
      "execution_count": null,
      "metadata": {
        "id": "-6lAm-hfq9w9"
      },
      "outputs": [],
      "source": [
        "# Es 4.8: Inserito il numero n dire per quali numeri, compresi tra 1 e n, è divisibile.\n",
        "# Inserisco 10: stampo 1,2,5\n",
        "# Inserisco 7: stampo 1\n"
      ]
    },
    {
      "cell_type": "code",
      "execution_count": null,
      "metadata": {
        "id": "GjC4LdR7rP-b"
      },
      "outputs": [],
      "source": [
        "# Es 4.9: Inserito il numero n dire se è primo o no\n"
      ]
    },
    {
      "cell_type": "code",
      "execution_count": null,
      "metadata": {
        "id": "CxtWnOdHsTv4"
      },
      "outputs": [],
      "source": [
        "# Es 4.10: Creare la funzione moltiplica che restituisce il prodotto tra due numeri senza utilizzare *\n",
        "# 3*4 è uguale a 4+4+4\n"
      ]
    }
  ],
  "metadata": {
    "colab": {
      "provenance": []
    },
    "kernelspec": {
      "display_name": "Python 3",
      "name": "python3"
    },
    "language_info": {
      "codemirror_mode": {
        "name": "ipython",
        "version": 3
      },
      "file_extension": ".py",
      "mimetype": "text/x-python",
      "name": "python",
      "nbconvert_exporter": "python",
      "pygments_lexer": "ipython3",
      "version": "3.10.8"
    }
  },
  "nbformat": 4,
  "nbformat_minor": 0
}
