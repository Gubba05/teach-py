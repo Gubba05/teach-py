{
  "cells": [
    {
      "cell_type": "markdown",
      "metadata": {
        "id": "HB3XbPDcSqe1"
      },
      "source": [
        "# Esercizi IF"
      ]
    },
    {
      "cell_type": "code",
      "execution_count": 21,
      "metadata": {
        "id": "0U7L9A29RfeT"
      },
      "outputs": [
        {
          "name": "stdout",
          "output_type": "stream",
          "text": [
            "Pari\n"
          ]
        }
      ],
      "source": [
        "# Es 4.1: Ottenere dall'utente un numero in input e scrivere a schermo \"Pari\" se il numero è pari, scrivere \"Dispari\" altrimenti\n",
        "\n",
        "x = int(input(\"Scrivi il valore di x\")) \n",
        "if x%2 == 0:\n",
        "    print(\"Pari\")\n",
        "else:\n",
        "    print(\"Dispari\")\n"
      ]
    },
    {
      "cell_type": "code",
      "execution_count": 29,
      "metadata": {
        "id": "gE3RVr9ORuwP"
      },
      "outputs": [
        {
          "name": "stdout",
          "output_type": "stream",
          "text": [
            "E' un triangolo\n"
          ]
        }
      ],
      "source": [
        "# Es 4.2: Ottenere dall'utente tre angoli caso siano i tre angoli di un triangolo scrivere a schermo \"È un triangolo\", altrimenti \"Non è un triangolo\"\n",
        "x = int(input(\"Scrivi il valore del primo angolo\")) \n",
        "y = int(input(\"Scrivi il valore del secondo angolo\")) \n",
        "z = int(input(\"Scrivi il valore del terzo angolo\")) \n",
        "\n",
        "\n",
        "if x+y+z == 180 and x>=0 and y>=0 and z>=0:\n",
        "    print(\"E' un triangolo\")\n",
        "else:\n",
        "    print(\"Non è un triangolo\")"
      ]
    },
    {
      "cell_type": "code",
      "execution_count": 36,
      "metadata": {
        "id": "r1A_DavcSKgi"
      },
      "outputs": [
        {
          "name": "stdout",
          "output_type": "stream",
          "text": [
            "E' un triangolo rettangolo\n"
          ]
        }
      ],
      "source": [
        "# Es 4.3: Ottenuti dall'utente tre angoli di un tringolo scrivere a schermo se i tre angoli descrivono un triangolo rettangolo o no\n",
        "x = int(input(\"Scrivi il valore del primo angolo\")) \n",
        "y = int(input(\"Scrivi il valore del secondo angolo\")) \n",
        "z = int(input(\"Scrivi il valore del terzo angolo\")) \n",
        "\n",
        "\n",
        "if x+y+z == 180 and x==90 or y==90 or z==90 :\n",
        "    print(\"E' un triangolo rettangolo\")\n",
        "else:\n",
        "    print(\"Non è un triangolo rettangolo\")"
      ]
    },
    {
      "cell_type": "code",
      "execution_count": 38,
      "metadata": {
        "id": "iA9D4X_GSims"
      },
      "outputs": [
        {
          "name": "stdout",
          "output_type": "stream",
          "text": [
            "Non è un triangolo equilatero\n"
          ]
        }
      ],
      "source": [
        "# Es 4.4: Ottenuti dall'utente tre angoli di un tringolo scrivere a schermo se i tre angoli descrivono un triangolo equilatero o no\n",
        "x = int(input(\"Scrivi il valore del primo angolo\")) \n",
        "y = int(input(\"Scrivi il valore del secondo angolo\")) \n",
        "z = int(input(\"Scrivi il valore del terzo angolo\")) \n",
        "\n",
        "\n",
        "if x+y+z == 180 and x==z==y :\n",
        "    print(\"E' un triangolo equilatero\")\n",
        "else:\n",
        "    print(\"Non è un triangolo equilatero\")"
      ]
    },
    {
      "cell_type": "code",
      "execution_count": 41,
      "metadata": {
        "id": "8q4gadoTSU7J"
      },
      "outputs": [
        {
          "name": "stdout",
          "output_type": "stream",
          "text": [
            "E' un triangolo isoscele\n"
          ]
        }
      ],
      "source": [
        "# Es 4.5: Ottenuti dall'utente tre angoli di un tringolo scrivere a schermo se i tre angoli descrivono un triangolo isocele o no\n",
        "x = int(input(\"Scrivi il valore del primo angolo\")) \n",
        "y = int(input(\"Scrivi il valore del secondo angolo\")) \n",
        "z = int(input(\"Scrivi il valore del terzo angolo\")) \n",
        "\n",
        "\n",
        "if x+y+z == 180 and x==z!=y or x==y!=z or z==y!=x :\n",
        "    print(\"E' un triangolo isoscele\")\n",
        "else:\n",
        "    print(\"Non è un triangolo isoscele\")"
      ]
    },
    {
      "cell_type": "code",
      "execution_count": 23,
      "metadata": {
        "id": "yVIE2kK3SYlq"
      },
      "outputs": [],
      "source": [
        "# Es 4.6: Ottenuti dall'utente tre angoli di un tringolo scrivere a schermo se i tre angoli descrivono un triangolo isocele, rettagolo, equilatero o scaleno\n",
        "x = int(input(\"Scrivi il valore del primo angolo\")) \n",
        "y = int(input(\"Scrivi il valore del secondo angolo\")) \n",
        "z = int(input(\"Scrivi il valore del terzo angolo\")) \n",
        "\n",
        "\n",
        "if x+y+z == 180:\n",
        "    \n",
        "    if x+y+z == 180 and x==z!=y or x==y!=z or z==y!=x :\n",
        "        print(\"E' un triangolo isoscele\")\n",
        "    if x+y+z == 180 and x==z==y :\n",
        "        print(\"E' un triangolo equilatero\")\n",
        "    if x+y+z == 180 and x==90 or y==90 or z==90 :\n",
        "        print(\"E' un triangolo rettangolo\")\n",
        "    if x!=z!=y!=90:\n",
        "        print(\"E' un triangolo scaleno\")\n",
        "\n",
        "\n"
      ]
    },
    {
      "cell_type": "markdown",
      "metadata": {
        "id": "ef5snVxLqeQh"
      },
      "source": [
        "# Esercizi WHILE\n"
      ]
    },
    {
      "cell_type": "code",
      "execution_count": 24,
      "metadata": {
        "id": "j61RqiHxqdmh"
      },
      "outputs": [
        {
          "name": "stdout",
          "output_type": "stream",
          "text": [
            "7\n",
            "7\n",
            "7\n",
            "7\n",
            "7\n",
            "7\n"
          ]
        }
      ],
      "source": [
        "# Es 4.7: Creare una funzione print_n(n,v) che stampi n volte il. contenuto di v\n",
        "def print_n(n,v):\n",
        "    i=0\n",
        "    while i in range(n):\n",
        "        print(v)\n",
        "        i=i+1\n",
        "    \n",
        "n = int(input(\"inserisci n\"))\n",
        "v = int(input(\"inserisci v\"))\n",
        "print_n(n,v)"
      ]
    },
    {
      "cell_type": "code",
      "execution_count": 33,
      "metadata": {
        "colab": {
          "base_uri": "https://localhost:8080/"
        },
        "id": "-6lAm-hfq9w9",
        "outputId": "399e82ba-3cfe-475f-f8df-0e156677ec75"
      },
      "outputs": [
        {
          "name": "stdout",
          "output_type": "stream",
          "text": [
            "i numeri compresi tra 1 e 8 che sono divisibili per 8 sono: [1, 2, 4, 8]\n"
          ]
        }
      ],
      "source": [
        "# Es 4.8: Inserito il numero n dire per quali numeri, compresi tra 1 e n, è divisibile.\n",
        "# Inserisco 10: stampo 1,2,5\n",
        "# Inserisco 7: stampo 1\n",
        "def trova_divisibili(n):\n",
        "    divisibili=[]\n",
        "    num = 1\n",
        "    while num <= n:\n",
        "        if n % num == 0:\n",
        "            divisibili.append(num)\n",
        "        num += 1\n",
        "    return divisibili\n",
        "\n",
        "n = int(input(\"inserisci il valore di n:\"))\n",
        "\n",
        "divisibili = trova_divisibili(n)\n",
        "print(\"i numeri compresi tra 1 e\", n, \"che sono divisibili per\", n,\"sono:\",divisibili)"
      ]
    },
    {
      "cell_type": "code",
      "execution_count": 29,
      "metadata": {
        "colab": {
          "base_uri": "https://localhost:8080/"
        },
        "id": "GjC4LdR7rP-b",
        "outputId": "9f539b4d-c307-479a-da13-610a7e1cc46e"
      },
      "outputs": [
        {
          "name": "stdout",
          "output_type": "stream",
          "text": [
            "8 non è un numero primo.\n"
          ]
        }
      ],
      "source": [
        "# Es 4.9: Inserito il numero n dire se è primo o no\n",
        "def is_primo(n):\n",
        "    if n <= 1:\n",
        "        return False\n",
        "    \n",
        "    # Verifica la divisibilità da 2 fino alla radice quadrata di n\n",
        "    i = 2\n",
        "    while i*i <= n:\n",
        "        if n % i == 0:\n",
        "            return False\n",
        "        i += 1\n",
        "    \n",
        "    return True\n",
        "\n",
        "# Esempio di utilizzo del programma\n",
        "n = int(input(\"Inserisci un numero: \"))\n",
        "\n",
        "if is_primo(n):\n",
        "    print(n, \"è un numero primo.\")\n",
        "else:\n",
        "    print(n, \"non è un numero primo.\")"
      ]
    },
    {
      "cell_type": "code",
      "execution_count": 32,
      "metadata": {
        "colab": {
          "base_uri": "https://localhost:8080/"
        },
        "id": "CxtWnOdHsTv4",
        "outputId": "5d874410-cb07-46a2-9c22-83d541b7a91a"
      },
      "outputs": [
        {
          "name": "stdout",
          "output_type": "stream",
          "text": [
            "Il prodotto di 6 e 7 è: 42\n"
          ]
        }
      ],
      "source": [
        "# Es 4.10: Creare la funzione moltiplica che restituisce il prodotto tra due numeri senza utilizzare *\n",
        "# 3*4 è uguale a 4+4+4\n",
        "def moltiplica(a, b):\n",
        "    prodotto = 0\n",
        "    if b < 0:\n",
        "        a, b = -a, -b\n",
        "    while b > 0:\n",
        "        prodotto += a\n",
        "        b -= 1\n",
        "    return prodotto\n",
        "\n",
        "# Esempio di utilizzo della funzione\n",
        "a = int(input(\"Inserisci il primo numero: \"))\n",
        "b = int(input(\"Inserisci il secondo numero: \"))\n",
        "\n",
        "risultato = moltiplica(a, b)\n",
        "print(\"Il prodotto di\", a, \"e\", b, \"è:\",risultato)"
      ]
    }
  ],
  "metadata": {
    "colab": {
      "provenance": []
    },
    "kernelspec": {
      "display_name": "Python 3",
      "name": "python3"
    },
    "language_info": {
      "codemirror_mode": {
        "name": "ipython",
        "version": 3
      },
      "file_extension": ".py",
      "mimetype": "text/x-python",
      "name": "python",
      "nbconvert_exporter": "python",
      "pygments_lexer": "ipython3",
      "version": "3.10.8"
    }
  },
  "nbformat": 4,
  "nbformat_minor": 0
}
