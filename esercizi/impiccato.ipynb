{
  "cells": [
    {
      "cell_type": "code",
      "execution_count": 1,
      "metadata": {
        "id": "dEWxmkWc48Lz"
      },
      "outputs": [
        {
          "name": "stdout",
          "output_type": "stream",
          "text": [
            "Benvenuto al gioco dell'impiccato!\n",
            "____\n",
            "Inserisci una singola lettera valida.\n",
            "Lettera 'z' non presente nella parola. Tentativi rimanenti: 5\n",
            "____\n",
            "Lettera 'h' non presente nella parola. Tentativi rimanenti: 4\n",
            "____\n",
            "Hai già indovinato questa lettera.\n",
            "c___\n",
            "Lettera 'i' non presente nella parola. Tentativi rimanenti: 3\n",
            "c___\n",
            "ca_a\n",
            "Lettera 'o' non presente nella parola. Tentativi rimanenti: 2\n",
            "ca_a\n",
            "Hai già indovinato questa lettera.\n",
            "casa\n",
            "Congratulazioni! Hai indovinato la parola: casa\n"
          ]
        }
      ],
      "source": [
        "# Es 8.1 Creare il gioco dell'impiccato\n",
        "# Suggerimento: per controllare se la lettera 'a' è presente all'interno della parola 'casa' si può usare:\n",
        "#\n",
        "# if 'a' in 'casa':\n",
        "#   print('Presente')\n",
        "import random\n",
        "\n",
        "def scegli_parola():\n",
        "    parole = [\"casa\", \"albero\", \"computer\", \"python\", \"gatto\", \"scuola\"]\n",
        "    return random.choice(parole)\n",
        "\n",
        "def gioca():\n",
        "    parola_da_indovinare = scegli_parola()\n",
        "    parola_indovinata = \"_\" * len(parola_da_indovinare)\n",
        "    tentativi_massimi = 6\n",
        "    tentativi = 0\n",
        "    lettere_indovinate = []\n",
        "\n",
        "    print(\"Benvenuto al gioco dell'impiccato!\")\n",
        "    print(parola_indovinata)\n",
        "\n",
        "    while tentativi < tentativi_massimi and \"_\" in parola_indovinata:\n",
        "        lettera = input(\"Indovina una lettera: \").lower()\n",
        "\n",
        "        if len(lettera) != 1 or not lettera.isalpha():\n",
        "            print(\"Inserisci una singola lettera valida.\")\n",
        "            continue\n",
        "\n",
        "        if lettera in lettere_indovinate:\n",
        "            print(\"Hai già indovinato questa lettera.\")\n",
        "            continue\n",
        "\n",
        "        lettere_indovinate.append(lettera)\n",
        "\n",
        "        if lettera in parola_da_indovinare:\n",
        "            for i in range(len(parola_da_indovinare)):\n",
        "                if parola_da_indovinare[i] == lettera:\n",
        "                    parola_indovinata = parola_indovinata[:i] + lettera + parola_indovinata[i + 1:]\n",
        "        else:\n",
        "            tentativi += 1\n",
        "            print(f\"Lettera '{lettera}' non presente nella parola. Tentativi rimanenti: {tentativi_massimi - tentativi}\")\n",
        "\n",
        "        print(parola_indovinata)\n",
        "\n",
        "    if \"_\" not in parola_indovinata:\n",
        "        print(\"Congratulazioni! Hai indovinato la parola: \" + parola_da_indovinare)\n",
        "    else:\n",
        "        print(f\"Hai esaurito i tentativi. La parola era: {parola_da_indovinare}\")\n",
        "\n",
        "if __name__ == \"__main__\":\n",
        "    gioca()\n"
      ]
    }
  ],
  "metadata": {
    "colab": {
      "provenance": []
    },
    "kernelspec": {
      "display_name": "Python 3",
      "name": "python3"
    },
    "language_info": {
      "codemirror_mode": {
        "name": "ipython",
        "version": 3
      },
      "file_extension": ".py",
      "mimetype": "text/x-python",
      "name": "python",
      "nbconvert_exporter": "python",
      "pygments_lexer": "ipython3",
      "version": "3.10.8"
    }
  },
  "nbformat": 4,
  "nbformat_minor": 0
}
