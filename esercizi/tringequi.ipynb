{
 "cells": [
  {
   "cell_type": "code",
   "execution_count": 39,
   "metadata": {},
   "outputs": [
    {
     "name": "stdout",
     "output_type": "stream",
     "text": [
      "    *\n",
      "   * *\n",
      "  *   *\n",
      " *     *\n",
      "*********\n"
     ]
    }
   ],
   "source": [
    "def disegna_triangolo_equilatero(n):\n",
    "    spazi = n-1\n",
    "\n",
    "    for i in range(n):\n",
    "        if i==0:\n",
    "            print(\" \" * (n-1) + \"*\")\n",
    "        \n",
    "        elif i==n-1:\n",
    "            print(\" \" * spazi + \"*\" * (2 * i + 1))\n",
    "        \n",
    "        else:\n",
    "            print(\" \" * spazi + \"*\" + \" \" * (2*i-1) + \"*\")\n",
    "        spazi -= 1\n",
    "\n",
    "n=int(input(\"dammi lato\"))\n",
    "\n",
    "disegna_triangolo_equilatero(n)\n",
    "\n",
    "\n",
    "\n",
    "\n"
   ]
  }
 ],
 "metadata": {
  "kernelspec": {
   "display_name": "Python 3",
   "language": "python",
   "name": "python3"
  },
  "language_info": {
   "codemirror_mode": {
    "name": "ipython",
    "version": 3
   },
   "file_extension": ".py",
   "mimetype": "text/x-python",
   "name": "python",
   "nbconvert_exporter": "python",
   "pygments_lexer": "ipython3",
   "version": "3.10.8"
  }
 },
 "nbformat": 4,
 "nbformat_minor": 2
}
