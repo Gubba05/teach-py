{
 "cells": [
  {
   "cell_type": "code",
   "execution_count": 11,
   "metadata": {},
   "outputs": [
    {
     "name": "stdout",
     "output_type": "stream",
     "text": [
      "   *\n",
      "  *** \n",
      " *****   \n",
      "*******     \n"
     ]
    }
   ],
   "source": [
    "def disegna_triangolo_equilatero(altezza):\n",
    "    for i in range(altezza):\n",
    "        spazi = \" \" * (altezza - i - 1)\n",
    "        asterischi = \"*\" * (2 * i + 1) + \" \" * (2*i-1)\n",
    "        print(spazi + asterischi)\n",
    "\n",
    "def main():\n",
    "    altezza = int(input(\"Inserisci l'altezza del triangolo equilatero: \"))\n",
    "\n",
    "    disegna_triangolo_equilatero(altezza)\n",
    "\n",
    "if __name__ == \"__main__\":\n",
    "    main()\n",
    "\n",
    "\n",
    "\n",
    "\n"
   ]
  }
 ],
 "metadata": {
  "kernelspec": {
   "display_name": "Python 3",
   "language": "python",
   "name": "python3"
  },
  "language_info": {
   "codemirror_mode": {
    "name": "ipython",
    "version": 3
   },
   "file_extension": ".py",
   "mimetype": "text/x-python",
   "name": "python",
   "nbconvert_exporter": "python",
   "pygments_lexer": "ipython3",
   "version": "3.10.8"
  }
 },
 "nbformat": 4,
 "nbformat_minor": 2
}
