{
 "cells": [
  {
   "cell_type": "code",
   "execution_count": 55,
   "metadata": {},
   "outputs": [
    {
     "name": "stdout",
     "output_type": "stream",
     "text": [
      "   *\n",
      "  * *\n",
      " * * *\n"
     ]
    }
   ],
   "source": [
    "\n",
    "def stampa_triangolo(n):\n",
    "    for i in range(1, n + 1):\n",
    "        spazi = \" \" * (n - i) # Stampa spazi a sinistra del triangolo\n",
    "        asterischi = \" *\" * i # Stampa asterischi per formare il triangolo\n",
    "        linea = spazi + asterischi\n",
    "        print(linea)\n",
    "\n",
    "n=3\n",
    "stampa_triangolo(n)\n",
    "\n",
    "\n",
    "\n"
   ]
  }
 ],
 "metadata": {
  "kernelspec": {
   "display_name": "Python 3",
   "language": "python",
   "name": "python3"
  },
  "language_info": {
   "codemirror_mode": {
    "name": "ipython",
    "version": 3
   },
   "file_extension": ".py",
   "mimetype": "text/x-python",
   "name": "python",
   "nbconvert_exporter": "python",
   "pygments_lexer": "ipython3",
   "version": "3.10.8"
  }
 },
 "nbformat": 4,
 "nbformat_minor": 2
}
