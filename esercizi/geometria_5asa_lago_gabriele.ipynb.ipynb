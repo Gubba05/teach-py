{
  "cells": [
    {
      "cell_type": "markdown",
      "metadata": {
        "id": "HB3XbPDcSqe1"
      },
      "source": [
        "# Esercizi Geometrici"
      ]
    },
    {
      "cell_type": "markdown",
      "metadata": {
        "id": "LCcywn6v2KxD"
      },
      "source": [
        "In Python per stampare consecutivamente più parole senza creare una riga per ognuna bisogna usare il seguente codice:\n"
      ]
    },
    {
      "cell_type": "code",
      "execution_count": 7,
      "metadata": {
        "colab": {
          "base_uri": "https://localhost:8080/"
        },
        "id": "PHdyo8E42sza",
        "outputId": "fb51a75d-54ef-48c3-f6ad-342834d2738b"
      },
      "outputs": [
        {
          "name": "stdout",
          "output_type": "stream",
          "text": [
            "Parola 1 Parola 2.\n",
            "Parola 3\n"
          ]
        }
      ],
      "source": [
        "print(\"Parola 1\", end=\" \")\n",
        "print(\"Parola 2\", end=\".\\n\")\n",
        "print(\"Parola 3\")"
      ]
    },
    {
      "cell_type": "code",
      "execution_count": 3,
      "metadata": {
        "colab": {
          "base_uri": "https://localhost:8080/"
        },
        "id": "0U7L9A29RfeT",
        "outputId": "ccdd9b72-55df-486a-a68d-cfe73e90461d"
      },
      "outputs": [
        {
          "name": "stdout",
          "output_type": "stream",
          "text": [
            "* * * * * * * * *  \n",
            "* * * * * * * * *  \n",
            "* * * * * * * * *  \n",
            "* * * * * * * * *  \n",
            "* * * * * * * * *  \n",
            "* * * * * * * * *  \n",
            "* * * * * * * * *  \n",
            "* * * * * * * * *  \n",
            "* * * * * * * * *  \n"
          ]
        }
      ],
      "source": [
        "# Es 6.1: Scrivi la funzione quadrato(n) che stampi a schermo un quadrato di lato nxn formato utilizzando il carattere *\n",
        "#         Esempio:    3 ->  * * *       4 ->  * * * *\n",
        "#                           * * *             * * * *\n",
        "#                           * * *             * * * *\n",
        "#                                             * * * *\n",
        "def quadrato(n):\n",
        "    for i in range (n):\n",
        "        for i in range (n):\n",
        "            print(\"*\", end=\" \")\n",
        "        print(\" \")\n",
        "quadrato(9)"
      ]
    },
    {
      "cell_type": "code",
      "execution_count": 4,
      "metadata": {
        "id": "gE3RVr9ORuwP"
      },
      "outputs": [
        {
          "name": "stdout",
          "output_type": "stream",
          "text": [
            "* * * * * * * *  \n",
            "* * * * * * * *  \n",
            "* * * * * * * *  \n",
            "* * * * * * * *  \n"
          ]
        }
      ],
      "source": [
        "# Es 6.2: Scrivi la funzione rettangolo(n) che stampi a schermo un rettangolo di lato nx2n formato utilizzando il carattere *\n",
        "#         Esempio:    3 ->  * * * * * *         4 ->  * * * * * * * *\n",
        "#                           * * * * * *               * * * * * * * *\n",
        "#                           * * * * * *               * * * * * * * *\n",
        "#                                                     * * * * * * * *\n",
        "def rettangolo(n):\n",
        "    for i in range(n):\n",
        "        for i in range(2*n):\n",
        "            print(\"*\", end=\" \")\n",
        "        print(\" \")   \n",
        "rettangolo(4)         "
      ]
    },
    {
      "cell_type": "code",
      "execution_count": 18,
      "metadata": {
        "id": "r1A_DavcSKgi"
      },
      "outputs": [
        {
          "name": "stdout",
          "output_type": "stream",
          "text": [
            "*  \n",
            "* *  \n",
            "* * *  \n",
            "* * * *  \n"
          ]
        }
      ],
      "source": [
        "# Es 6.3: Scrivi la funzione triangolo_rettangolo(n) che stampi a schermo un triangolo di cateti n e n formato utilizzando il carattere *\n",
        "#         Esempio:    3 ->  *           4 ->  *\n",
        "#                           * *               * *\n",
        "#                           * * *             * * *\n",
        "#                                             * * * *\n",
        "def triangolo_rettangolo(n):\n",
        "    for i in range(n):\n",
        "        for i in range(i+1):\n",
        "            print(\"*\", end=\" \")\n",
        "        print(\" \")   \n",
        "triangolo_rettangolo(4)    "
      ]
    },
    {
      "cell_type": "code",
      "execution_count": 23,
      "metadata": {
        "id": "iA9D4X_GSims"
      },
      "outputs": [
        {
          "name": "stdout",
          "output_type": "stream",
          "text": [
            "* * * * * * \n",
            "*         *\n",
            "*         *\n",
            "*         *\n",
            "*         *\n",
            "* * * * * * \n"
          ]
        }
      ],
      "source": [
        "# Es 6.4: Scrivi la funzione bordo_quadrato(n) che stampi a schermo un quadrato di lato nxn formato utilizzando il carattere * come contorno\n",
        "#         Esempio:    3 ->  * * *       4 ->  * * * *\n",
        "#                           *   *             *     *\n",
        "#                           * * *             *     *\n",
        "#                                             * * * *\n",
        "def bordo_quadrato(n):\n",
        "    for i in range(n):\n",
        "        if i == 0 or i == n - 1:\n",
        "            print(\"* \" * n)\n",
        "        else:\n",
        "            print(\"* \" + \"  \" * (n - 2) + \"*\")\n",
        "\n",
        "bordo_quadrato(6)\n"
      ]
    },
    {
      "cell_type": "code",
      "execution_count": 13,
      "metadata": {
        "colab": {
          "base_uri": "https://localhost:8080/"
        },
        "id": "1vlDMqo_4uNc",
        "outputId": "de4cc1b2-7110-4ad6-b86c-d67c5756c074"
      },
      "outputs": [
        {
          "name": "stdout",
          "output_type": "stream",
          "text": [
            "/ - - - - \\\n",
            "|         |\n",
            "|         |\n",
            "|         |\n",
            "|         |\n",
            "\\ - - - - /\n"
          ]
        }
      ],
      "source": [
        "# Es 6.5: Scrivi la funzione bordo_quadrato_bello(n) che stampi a schermo un quadrato di lato nxn formato utilizzando iseguenti caratteri:\n",
        "#         Esempio:    3 ->  / - \\       4 ->  / - - \\\n",
        "#                           |   |             |     |\n",
        "#                           \\ - /             |     |\n",
        "#                                             \\ - - /\n",
        "# Per stampare \\ dovete utilizzare \"\\\\\" ovvero print(\"\\\\\")\n",
        "def bordo_quadrato_bello(n):\n",
        "    if n <= 0:\n",
        "        print(\"Il lato del quadrato deve essere un numero positivo.\")\n",
        "        return\n",
        "\n",
        "    print(\"/ \" + \"- \" * (n - 2) + \"\\\\\")\n",
        "    \n",
        "    for i in range(1, n - 1):\n",
        "        print(\"| \" + \"  \" * (n - 2) + \"|\")\n",
        "    \n",
        "    if n > 1:\n",
        "        print(\"\\\\ \" + \"- \" * (n - 2) + \"/\")\n",
        "\n",
        "bordo_quadrato_bello(6)"
      ]
    },
    {
      "cell_type": "code",
      "execution_count": 30,
      "metadata": {
        "id": "2E9Hk9kkv5Mx"
      },
      "outputs": [
        {
          "name": "stdout",
          "output_type": "stream",
          "text": [
            "^\\\n",
            "| \\\n",
            "|___\\\n"
          ]
        }
      ],
      "source": [
        "# Es 6.6: Scrivi la funzione trianglo_bello(n) che stampi a schermo un triangolo di cateti n e n formato utilizzando iseguenti caratteri:\n",
        "#.   ^\\\n",
        "#    | \\\n",
        "#.   |  \\\n",
        "#.   |___\\\n",
        "\n",
        "def triangolo_bello(n):\n",
        "    if n <= 0:\n",
        "        print(\"La lunghezza del cateto deve essere un numero positivo.\")\n",
        "        return\n",
        "\n",
        "    # Stampiamo il triangolo con i caratteri specificati\n",
        "    for i in range(n):\n",
        "        if i == 0:\n",
        "            print(\"^\\\\\")\n",
        "        elif i == n - 1:\n",
        "            print(\"|___\\\\\")\n",
        "        else:\n",
        "            print(\"|\" + \" \" * i + \"\\\\\")\n",
        "\n",
        "triangolo_bello(3)"
      ]
    }
  ],
  "metadata": {
    "colab": {
      "provenance": []
    },
    "kernelspec": {
      "display_name": "Python 3",
      "name": "python3"
    },
    "language_info": {
      "codemirror_mode": {
        "name": "ipython",
        "version": 3
      },
      "file_extension": ".py",
      "mimetype": "text/x-python",
      "name": "python",
      "nbconvert_exporter": "python",
      "pygments_lexer": "ipython3",
      "version": "3.10.8"
    }
  },
  "nbformat": 4,
  "nbformat_minor": 0
}
